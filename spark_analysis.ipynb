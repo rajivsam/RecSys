{
 "cells": [
  {
   "cell_type": "code",
   "execution_count": 12,
   "metadata": {},
   "outputs": [
    {
     "data": {
      "text/html": [
       "\n",
       "        <div>\n",
       "            <p><b>SparkContext</b></p>\n",
       "\n",
       "            <p><a href=\"http://192.168.1.7:4040\">Spark UI</a></p>\n",
       "\n",
       "            <dl>\n",
       "              <dt>Version</dt>\n",
       "                <dd><code>v2.3.2</code></dd>\n",
       "              <dt>Master</dt>\n",
       "                <dd><code>local[*]</code></dd>\n",
       "              <dt>AppName</dt>\n",
       "                <dd><code>PySparkShell</code></dd>\n",
       "            </dl>\n",
       "        </div>\n",
       "        "
      ],
      "text/plain": [
       "<SparkContext master=local[*] appName=PySparkShell>"
      ]
     },
     "execution_count": 12,
     "metadata": {},
     "output_type": "execute_result"
    }
   ],
   "source": [
    "sc"
   ]
  },
  {
   "cell_type": "code",
   "execution_count": 13,
   "metadata": {},
   "outputs": [],
   "source": [
    "from pyspark.sql.types import StringType, StructField, StructType, TimestampType, ArrayType, IntegerType, LongType\n",
    "\n",
    "event_schema = StructType([\n",
    "    StructField(\"timestamp\", StringType()),\n",
    "    StructField(\"visitorid\", IntegerType()),\n",
    "    StructField(\"event\", StringType()),\n",
    "    StructField(\"itemid\", IntegerType()),\n",
    "    StructField(\"transactionid\", IntegerType())\n",
    "])"
   ]
  },
  {
   "cell_type": "code",
   "execution_count": 14,
   "metadata": {},
   "outputs": [],
   "source": [
    "fp = \"/home/admin123/recsys/retail_rocket/events.csv\"\n",
    "df = spark.read.csv(fp, header = True, schema = event_schema)"
   ]
  },
  {
   "cell_type": "code",
   "execution_count": 15,
   "metadata": {},
   "outputs": [
    {
     "name": "stdout",
     "output_type": "stream",
     "text": [
      "+-------------+---------+---------+------+-------------+\n",
      "|    timestamp|visitorid|    event|itemid|transactionid|\n",
      "+-------------+---------+---------+------+-------------+\n",
      "|1433221332117|   257597|     view|355908|         null|\n",
      "|1433224214164|   992329|     view|248676|         null|\n",
      "|1433221999827|   111016|     view|318965|         null|\n",
      "|1433221955914|   483717|     view|253185|         null|\n",
      "|1433221337106|   951259|     view|367447|         null|\n",
      "|1433224086234|   972639|     view| 22556|         null|\n",
      "|1433221923240|   810725|     view|443030|         null|\n",
      "|1433223291897|   794181|     view|439202|         null|\n",
      "|1433220899221|   824915|     view|428805|         null|\n",
      "|1433221204592|   339335|     view| 82389|         null|\n",
      "|1433222162373|   176446|     view| 10572|         null|\n",
      "|1433221701252|   929206|     view|410676|         null|\n",
      "|1433224229496|    15795|     view| 44872|         null|\n",
      "|1433223697356|   598426|     view|156489|         null|\n",
      "|1433224078165|   223343|     view|402625|         null|\n",
      "|1433222531378|    57036|     view|334662|         null|\n",
      "|1433223239808|  1377281|     view|251467|         null|\n",
      "|1433223236124|   287857|addtocart|  5206|         null|\n",
      "|1433224244282|  1370216|     view|176721|         null|\n",
      "|1433221078505|   158090|addtocart| 10572|         null|\n",
      "+-------------+---------+---------+------+-------------+\n",
      "only showing top 20 rows\n",
      "\n"
     ]
    }
   ],
   "source": [
    "df.show()"
   ]
  },
  {
   "cell_type": "code",
   "execution_count": 16,
   "metadata": {},
   "outputs": [
    {
     "name": "stdout",
     "output_type": "stream",
     "text": [
      "root\n",
      " |-- timestamp: string (nullable = true)\n",
      " |-- visitorid: integer (nullable = true)\n",
      " |-- event: string (nullable = true)\n",
      " |-- itemid: integer (nullable = true)\n",
      " |-- transactionid: integer (nullable = true)\n",
      "\n"
     ]
    }
   ],
   "source": [
    "df.printSchema()"
   ]
  },
  {
   "cell_type": "code",
   "execution_count": 17,
   "metadata": {},
   "outputs": [],
   "source": [
    "from pyspark.sql import functions as f\n",
    "from pyspark.sql import types as t"
   ]
  },
  {
   "cell_type": "code",
   "execution_count": 18,
   "metadata": {},
   "outputs": [],
   "source": [
    "format = \"yyyy-MM-dd HH:mm:ss\"\n",
    "df = df.withColumn('timestamp2', f.from_unixtime(df.timestamp/1000).cast(TimestampType()))\n"
   ]
  },
  {
   "cell_type": "code",
   "execution_count": 19,
   "metadata": {},
   "outputs": [
    {
     "name": "stdout",
     "output_type": "stream",
     "text": [
      "+-------------+---------+---------+------+-------------+-------------------+\n",
      "|    timestamp|visitorid|    event|itemid|transactionid|         timestamp2|\n",
      "+-------------+---------+---------+------+-------------+-------------------+\n",
      "|1433221332117|   257597|     view|355908|         null|2015-06-02 10:32:12|\n",
      "|1433224214164|   992329|     view|248676|         null|2015-06-02 11:20:14|\n",
      "|1433221999827|   111016|     view|318965|         null|2015-06-02 10:43:19|\n",
      "|1433221955914|   483717|     view|253185|         null|2015-06-02 10:42:35|\n",
      "|1433221337106|   951259|     view|367447|         null|2015-06-02 10:32:17|\n",
      "|1433224086234|   972639|     view| 22556|         null|2015-06-02 11:18:06|\n",
      "|1433221923240|   810725|     view|443030|         null|2015-06-02 10:42:03|\n",
      "|1433223291897|   794181|     view|439202|         null|2015-06-02 11:04:51|\n",
      "|1433220899221|   824915|     view|428805|         null|2015-06-02 10:24:59|\n",
      "|1433221204592|   339335|     view| 82389|         null|2015-06-02 10:30:04|\n",
      "|1433222162373|   176446|     view| 10572|         null|2015-06-02 10:46:02|\n",
      "|1433221701252|   929206|     view|410676|         null|2015-06-02 10:38:21|\n",
      "|1433224229496|    15795|     view| 44872|         null|2015-06-02 11:20:29|\n",
      "|1433223697356|   598426|     view|156489|         null|2015-06-02 11:11:37|\n",
      "|1433224078165|   223343|     view|402625|         null|2015-06-02 11:17:58|\n",
      "|1433222531378|    57036|     view|334662|         null|2015-06-02 10:52:11|\n",
      "|1433223239808|  1377281|     view|251467|         null|2015-06-02 11:03:59|\n",
      "|1433223236124|   287857|addtocart|  5206|         null|2015-06-02 11:03:56|\n",
      "|1433224244282|  1370216|     view|176721|         null|2015-06-02 11:20:44|\n",
      "|1433221078505|   158090|addtocart| 10572|         null|2015-06-02 10:27:58|\n",
      "+-------------+---------+---------+------+-------------+-------------------+\n",
      "only showing top 20 rows\n",
      "\n"
     ]
    }
   ],
   "source": [
    "df.show()"
   ]
  },
  {
   "cell_type": "code",
   "execution_count": 20,
   "metadata": {},
   "outputs": [
    {
     "data": {
      "text/plain": [
       "pyspark.sql.dataframe.DataFrame"
      ]
     },
     "execution_count": 20,
     "metadata": {},
     "output_type": "execute_result"
    }
   ],
   "source": [
    "type(df)"
   ]
  },
  {
   "cell_type": "code",
   "execution_count": 21,
   "metadata": {},
   "outputs": [],
   "source": [
    "df = df.drop('timestamp')"
   ]
  },
  {
   "cell_type": "code",
   "execution_count": 22,
   "metadata": {},
   "outputs": [
    {
     "name": "stdout",
     "output_type": "stream",
     "text": [
      "+---------+---------+------+-------------+-------------------+\n",
      "|visitorid|    event|itemid|transactionid|          timestamp|\n",
      "+---------+---------+------+-------------+-------------------+\n",
      "|   257597|     view|355908|         null|2015-06-02 10:32:12|\n",
      "|   992329|     view|248676|         null|2015-06-02 11:20:14|\n",
      "|   111016|     view|318965|         null|2015-06-02 10:43:19|\n",
      "|   483717|     view|253185|         null|2015-06-02 10:42:35|\n",
      "|   951259|     view|367447|         null|2015-06-02 10:32:17|\n",
      "|   972639|     view| 22556|         null|2015-06-02 11:18:06|\n",
      "|   810725|     view|443030|         null|2015-06-02 10:42:03|\n",
      "|   794181|     view|439202|         null|2015-06-02 11:04:51|\n",
      "|   824915|     view|428805|         null|2015-06-02 10:24:59|\n",
      "|   339335|     view| 82389|         null|2015-06-02 10:30:04|\n",
      "|   176446|     view| 10572|         null|2015-06-02 10:46:02|\n",
      "|   929206|     view|410676|         null|2015-06-02 10:38:21|\n",
      "|    15795|     view| 44872|         null|2015-06-02 11:20:29|\n",
      "|   598426|     view|156489|         null|2015-06-02 11:11:37|\n",
      "|   223343|     view|402625|         null|2015-06-02 11:17:58|\n",
      "|    57036|     view|334662|         null|2015-06-02 10:52:11|\n",
      "|  1377281|     view|251467|         null|2015-06-02 11:03:59|\n",
      "|   287857|addtocart|  5206|         null|2015-06-02 11:03:56|\n",
      "|  1370216|     view|176721|         null|2015-06-02 11:20:44|\n",
      "|   158090|addtocart| 10572|         null|2015-06-02 10:27:58|\n",
      "+---------+---------+------+-------------+-------------------+\n",
      "only showing top 20 rows\n",
      "\n"
     ]
    }
   ],
   "source": [
    "df = df.withColumnRenamed('timestamp2', 'timestamp')\n",
    "df.show()"
   ]
  },
  {
   "cell_type": "code",
   "execution_count": 23,
   "metadata": {},
   "outputs": [
    {
     "name": "stdout",
     "output_type": "stream",
     "text": [
      "+---------+---------+------+-------------+-------------------+\n",
      "|visitorid|    event|itemid|transactionid|          timestamp|\n",
      "+---------+---------+------+-------------+-------------------+\n",
      "|   257597|     view|355908|         null|2015-06-02 10:32:12|\n",
      "|   992329|     view|248676|         null|2015-06-02 11:20:14|\n",
      "|   111016|     view|318965|         null|2015-06-02 10:43:19|\n",
      "|   483717|     view|253185|         null|2015-06-02 10:42:35|\n",
      "|   951259|     view|367447|         null|2015-06-02 10:32:17|\n",
      "|   972639|     view| 22556|         null|2015-06-02 11:18:06|\n",
      "|   810725|     view|443030|         null|2015-06-02 10:42:03|\n",
      "|   794181|     view|439202|         null|2015-06-02 11:04:51|\n",
      "|   824915|     view|428805|         null|2015-06-02 10:24:59|\n",
      "|   339335|     view| 82389|         null|2015-06-02 10:30:04|\n",
      "|   176446|     view| 10572|         null|2015-06-02 10:46:02|\n",
      "|   929206|     view|410676|         null|2015-06-02 10:38:21|\n",
      "|    15795|     view| 44872|         null|2015-06-02 11:20:29|\n",
      "|   598426|     view|156489|         null|2015-06-02 11:11:37|\n",
      "|   223343|     view|402625|         null|2015-06-02 11:17:58|\n",
      "|    57036|     view|334662|         null|2015-06-02 10:52:11|\n",
      "|  1377281|     view|251467|         null|2015-06-02 11:03:59|\n",
      "|   287857|addtocart|  5206|         null|2015-06-02 11:03:56|\n",
      "|  1370216|     view|176721|         null|2015-06-02 11:20:44|\n",
      "|   158090|addtocart| 10572|         null|2015-06-02 10:27:58|\n",
      "+---------+---------+------+-------------+-------------------+\n",
      "only showing top 20 rows\n",
      "\n"
     ]
    }
   ],
   "source": [
    "df.show()"
   ]
  },
  {
   "cell_type": "code",
   "execution_count": 24,
   "metadata": {},
   "outputs": [
    {
     "name": "stdout",
     "output_type": "stream",
     "text": [
      "root\n",
      " |-- visitorid: integer (nullable = true)\n",
      " |-- event: string (nullable = true)\n",
      " |-- itemid: integer (nullable = true)\n",
      " |-- transactionid: integer (nullable = true)\n",
      " |-- timestamp: timestamp (nullable = true)\n",
      "\n"
     ]
    }
   ],
   "source": [
    "df.printSchema()"
   ]
  },
  {
   "cell_type": "code",
   "execution_count": 25,
   "metadata": {},
   "outputs": [],
   "source": [
    "dfs = df.sample(fraction= 0.005)"
   ]
  },
  {
   "cell_type": "code",
   "execution_count": 26,
   "metadata": {},
   "outputs": [
    {
     "name": "stdout",
     "output_type": "stream",
     "text": [
      "+---------+---------+------+-------------+-------------------+\n",
      "|visitorid|    event|itemid|transactionid|          timestamp|\n",
      "+---------+---------+------+-------------+-------------------+\n",
      "|   157954|     view|143486|         null|2015-06-02 02:42:05|\n",
      "|   183568|     view|335913|         null|2015-06-02 09:25:01|\n",
      "|    63121|     view|310791|         null|2015-06-01 20:56:49|\n",
      "|  1181810|     view|444365|         null|2015-06-01 21:07:09|\n",
      "|   164708|     view| 23828|         null|2015-06-01 23:47:12|\n",
      "|   449199|     view|298868|         null|2015-06-01 23:12:07|\n",
      "|  1382480|     view|390591|         null|2015-06-01 22:51:33|\n",
      "|  1250313|     view|148545|         null|2015-06-01 22:57:14|\n",
      "|   761891|     view|239052|         null|2015-06-02 04:59:00|\n",
      "|   131869|addtocart|183411|         null|2015-06-02 01:42:29|\n",
      "|  1086719|     view|440248|         null|2015-06-01 15:12:39|\n",
      "|   400325|     view|393134|         null|2015-06-01 18:02:07|\n",
      "|   563755|     view|389814|         null|2015-06-01 13:04:47|\n",
      "|  1147831|     view|202187|         null|2015-06-02 03:30:00|\n",
      "|   993981|     view|296886|         null|2015-06-02 04:00:51|\n",
      "|   907483|     view| 55257|         null|2015-06-02 04:11:37|\n",
      "|  1251086|     view|308312|         null|2015-06-02 08:16:17|\n",
      "|   531407|     view|450571|         null|2015-06-02 00:52:47|\n",
      "|  1001983|     view| 60637|         null|2015-06-02 00:29:50|\n",
      "|   655979|addtocart|308967|         null|2015-06-02 00:59:55|\n",
      "+---------+---------+------+-------------+-------------------+\n",
      "only showing top 20 rows\n",
      "\n"
     ]
    }
   ],
   "source": [
    "dfs.show()"
   ]
  },
  {
   "cell_type": "code",
   "execution_count": 27,
   "metadata": {},
   "outputs": [],
   "source": [
    "from pyspark.sql.functions import count\n",
    "dfsgb = dfs.groupBy([\"visitorid\", \"itemid\"]).agg(count(\"timestamp\").alias(\"interactions\"))"
   ]
  },
  {
   "cell_type": "code",
   "execution_count": 28,
   "metadata": {},
   "outputs": [
    {
     "name": "stdout",
     "output_type": "stream",
     "text": [
      "+---------+------+------------+\n",
      "|visitorid|itemid|interactions|\n",
      "+---------+------+------------+\n",
      "|  1361418|450774|           1|\n",
      "|  1394773|248023|           1|\n",
      "|   205215| 93101|           1|\n",
      "|   804658|136329|           1|\n",
      "|   503857|202891|           1|\n",
      "|   678548|167269|           1|\n",
      "|   199911|350475|           1|\n",
      "|   388205|384528|           1|\n",
      "|  1255217|421862|           1|\n",
      "|   542391|451676|           1|\n",
      "|   848570|434782|           1|\n",
      "|   377124|349254|           1|\n",
      "|  1345555|394351|           1|\n",
      "|   757936|247427|           1|\n",
      "|   355503|321861|           1|\n",
      "|   695015|461199|           1|\n",
      "|   103899|231009|           1|\n",
      "|   982515|350183|           1|\n",
      "|   775034|143063|           1|\n",
      "|   339108|411817|           1|\n",
      "+---------+------+------------+\n",
      "only showing top 20 rows\n",
      "\n"
     ]
    }
   ],
   "source": [
    "dfsgb.show()"
   ]
  },
  {
   "cell_type": "code",
   "execution_count": 29,
   "metadata": {},
   "outputs": [
    {
     "name": "stdout",
     "output_type": "stream",
     "text": [
      "+-----------------+\n",
      "|max(interactions)|\n",
      "+-----------------+\n",
      "|                4|\n",
      "+-----------------+\n",
      "\n"
     ]
    }
   ],
   "source": [
    "from pyspark.sql.functions import max, min\n",
    "dfsgb.agg(max(\"interactions\")).show()"
   ]
  },
  {
   "cell_type": "code",
   "execution_count": 30,
   "metadata": {},
   "outputs": [],
   "source": [
    "dfsui = dfs.groupby(\"visitorid\").agg(count(\"timestamp\").alias(\"total_user_interaction_count\"))"
   ]
  },
  {
   "cell_type": "code",
   "execution_count": 31,
   "metadata": {},
   "outputs": [
    {
     "name": "stdout",
     "output_type": "stream",
     "text": [
      "+---------------------------------+\n",
      "|max(total_user_interaction_count)|\n",
      "+---------------------------------+\n",
      "|                               32|\n",
      "+---------------------------------+\n",
      "\n"
     ]
    }
   ],
   "source": [
    "dfsui.agg(max(\"total_user_interaction_count\")).show()"
   ]
  },
  {
   "cell_type": "code",
   "execution_count": 32,
   "metadata": {},
   "outputs": [
    {
     "name": "stdout",
     "output_type": "stream",
     "text": [
      "+-------------------------+\n",
      "|count(DISTINCT visitorid)|\n",
      "+-------------------------+\n",
      "|                    13117|\n",
      "+-------------------------+\n",
      "\n"
     ]
    }
   ],
   "source": [
    "from pyspark.sql.functions import col, countDistinct\n",
    "dfs.agg(countDistinct(\"visitorid\")).show()"
   ]
  },
  {
   "cell_type": "code",
   "execution_count": 33,
   "metadata": {},
   "outputs": [
    {
     "name": "stdout",
     "output_type": "stream",
     "text": [
      "+----------------------+\n",
      "|count(DISTINCT itemid)|\n",
      "+----------------------+\n",
      "|                 11334|\n",
      "+----------------------+\n",
      "\n"
     ]
    }
   ],
   "source": [
    "dfs.agg(countDistinct(\"itemid\")).show()"
   ]
  },
  {
   "cell_type": "code",
   "execution_count": 34,
   "metadata": {},
   "outputs": [
    {
     "data": {
      "text/plain": [
       "pyspark.sql.dataframe.DataFrame"
      ]
     },
     "execution_count": 34,
     "metadata": {},
     "output_type": "execute_result"
    }
   ],
   "source": [
    "type(dfsgb)"
   ]
  },
  {
   "cell_type": "code",
   "execution_count": 35,
   "metadata": {},
   "outputs": [],
   "source": [
    "from pyspark.sql.functions import *\n",
    "\n",
    "df1 = dfsgb.alias('df1')\n",
    "df2 = dfsui.alias('df2')"
   ]
  },
  {
   "cell_type": "code",
   "execution_count": 36,
   "metadata": {},
   "outputs": [],
   "source": [
    "dfr = df1.join(df2, df1.visitorid == df2.visitorid).select('df1.*', 'df2.total_user_interaction_count')"
   ]
  },
  {
   "cell_type": "code",
   "execution_count": 37,
   "metadata": {},
   "outputs": [],
   "source": [
    "dfr = dfr.withColumn('rui', dfr.interactions/dfr.total_user_interaction_count)"
   ]
  },
  {
   "cell_type": "code",
   "execution_count": 38,
   "metadata": {},
   "outputs": [
    {
     "name": "stdout",
     "output_type": "stream",
     "text": [
      "+--------+\n",
      "|min(rui)|\n",
      "+--------+\n",
      "| 0.03125|\n",
      "+--------+\n",
      "\n"
     ]
    }
   ],
   "source": [
    "dfr.agg(min(\"rui\")).show()"
   ]
  },
  {
   "cell_type": "code",
   "execution_count": 39,
   "metadata": {},
   "outputs": [
    {
     "name": "stdout",
     "output_type": "stream",
     "text": [
      "+------------------+\n",
      "|          avg(rui)|\n",
      "+------------------+\n",
      "|0.9537555442448921|\n",
      "+------------------+\n",
      "\n"
     ]
    }
   ],
   "source": [
    "from pyspark.sql.functions import mean\n",
    "dfr.agg(mean(\"rui\")).show()"
   ]
  },
  {
   "cell_type": "code",
   "execution_count": 40,
   "metadata": {},
   "outputs": [
    {
     "data": {
      "text/plain": [
       "[0.03125, 0.03125, 1.0, 1.0, 1.0]"
      ]
     },
     "execution_count": 40,
     "metadata": {},
     "output_type": "execute_result"
    }
   ],
   "source": [
    "dfr.approxQuantile(\"rui\", [0.1, 0.2, 0.3, 0.4, 0.5], 0.25)"
   ]
  },
  {
   "cell_type": "code",
   "execution_count": 41,
   "metadata": {},
   "outputs": [
    {
     "name": "stdout",
     "output_type": "stream",
     "text": [
      "+-----------+-----+\n",
      "|      event|count|\n",
      "+-----------+-----+\n",
      "|transaction|   98|\n",
      "|  addtocart|  333|\n",
      "|       view|13376|\n",
      "+-----------+-----+\n",
      "\n"
     ]
    }
   ],
   "source": [
    "dfs.groupBy(\"event\").count().show()"
   ]
  },
  {
   "cell_type": "code",
   "execution_count": 94,
   "metadata": {},
   "outputs": [],
   "source": [
    "def assign_ratings(e):\n",
    "    \n",
    "    rating = 0\n",
    "    if e == \"view\":\n",
    "        rating = 2\n",
    "    else:\n",
    "        rating = 5\n",
    "    \n",
    "    return rating"
   ]
  },
  {
   "cell_type": "code",
   "execution_count": 97,
   "metadata": {},
   "outputs": [
    {
     "name": "stdout",
     "output_type": "stream",
     "text": [
      "+-------+\n",
      "|ratings|\n",
      "+-------+\n",
      "|      2|\n",
      "|      2|\n",
      "|      2|\n",
      "|      2|\n",
      "|      2|\n",
      "|      2|\n",
      "|      2|\n",
      "|      2|\n",
      "|      2|\n",
      "|      5|\n",
      "|      2|\n",
      "|      2|\n",
      "|      2|\n",
      "|      2|\n",
      "|      2|\n",
      "|      2|\n",
      "|      2|\n",
      "|      2|\n",
      "|      2|\n",
      "|      5|\n",
      "+-------+\n",
      "only showing top 20 rows\n",
      "\n"
     ]
    }
   ],
   "source": [
    "from pyspark.sql import Row\n",
    "dfs.select(\"event\").rdd.map(lambda x : assign_ratings(x[0])).map(lambda x: Row(x)).toDF([\"ratings\"]).show()"
   ]
  },
  {
   "cell_type": "code",
   "execution_count": 98,
   "metadata": {},
   "outputs": [],
   "source": [
    "from pyspark.sql.functions import col, when\n",
    "dfs = dfs.withColumn(\"ratings\", when(col(\"event\")=='view', 2).otherwise(5))"
   ]
  },
  {
   "cell_type": "code",
   "execution_count": 99,
   "metadata": {},
   "outputs": [
    {
     "name": "stdout",
     "output_type": "stream",
     "text": [
      "+---------+---------+------+-------------+-------------------+-------+\n",
      "|visitorid|    event|itemid|transactionid|          timestamp|ratings|\n",
      "+---------+---------+------+-------------+-------------------+-------+\n",
      "|   157954|     view|143486|         null|2015-06-02 02:42:05|      2|\n",
      "|   183568|     view|335913|         null|2015-06-02 09:25:01|      2|\n",
      "|    63121|     view|310791|         null|2015-06-01 20:56:49|      2|\n",
      "|  1181810|     view|444365|         null|2015-06-01 21:07:09|      2|\n",
      "|   164708|     view| 23828|         null|2015-06-01 23:47:12|      2|\n",
      "|   449199|     view|298868|         null|2015-06-01 23:12:07|      2|\n",
      "|  1382480|     view|390591|         null|2015-06-01 22:51:33|      2|\n",
      "|  1250313|     view|148545|         null|2015-06-01 22:57:14|      2|\n",
      "|   761891|     view|239052|         null|2015-06-02 04:59:00|      2|\n",
      "|   131869|addtocart|183411|         null|2015-06-02 01:42:29|      5|\n",
      "|  1086719|     view|440248|         null|2015-06-01 15:12:39|      2|\n",
      "|   400325|     view|393134|         null|2015-06-01 18:02:07|      2|\n",
      "|   563755|     view|389814|         null|2015-06-01 13:04:47|      2|\n",
      "|  1147831|     view|202187|         null|2015-06-02 03:30:00|      2|\n",
      "|   993981|     view|296886|         null|2015-06-02 04:00:51|      2|\n",
      "|   907483|     view| 55257|         null|2015-06-02 04:11:37|      2|\n",
      "|  1251086|     view|308312|         null|2015-06-02 08:16:17|      2|\n",
      "|   531407|     view|450571|         null|2015-06-02 00:52:47|      2|\n",
      "|  1001983|     view| 60637|         null|2015-06-02 00:29:50|      2|\n",
      "|   655979|addtocart|308967|         null|2015-06-02 00:59:55|      5|\n",
      "+---------+---------+------+-------------+-------------------+-------+\n",
      "only showing top 20 rows\n",
      "\n"
     ]
    }
   ],
   "source": [
    "dfs.rdd.countApproxDistinct()"
   ]
  },
  {
   "cell_type": "code",
   "execution_count": null,
   "metadata": {},
   "outputs": [],
   "source": []
  }
 ],
 "metadata": {
  "kernelspec": {
   "display_name": "Python 2",
   "language": "python",
   "name": "python2"
  },
  "language_info": {
   "codemirror_mode": {
    "name": "ipython",
    "version": 2
   },
   "file_extension": ".py",
   "mimetype": "text/x-python",
   "name": "python",
   "nbconvert_exporter": "python",
   "pygments_lexer": "ipython2",
   "version": "2.7.15"
  }
 },
 "nbformat": 4,
 "nbformat_minor": 2
}
